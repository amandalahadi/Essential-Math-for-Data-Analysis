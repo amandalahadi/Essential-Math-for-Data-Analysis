{
  "nbformat": 4,
  "nbformat_minor": 0,
  "metadata": {
    "colab": {
      "name": "amanda py.ipynb",
      "provenance": [],
      "collapsed_sections": [],
      "authorship_tag": "ABX9TyNilAljob3qzuHgktmmFh3f",
      "include_colab_link": true
    },
    "kernelspec": {
      "name": "python3",
      "display_name": "Python 3"
    },
    "language_info": {
      "name": "python"
    }
  },
  "cells": [
    {
      "cell_type": "markdown",
      "metadata": {
        "id": "view-in-github",
        "colab_type": "text"
      },
      "source": [
        "<a href=\"https://colab.research.google.com/github/amandalahadi/Essential-Math-for-Data-Analysis/blob/master/amanda_py.ipynb\" target=\"_parent\"><img src=\"https://colab.research.google.com/assets/colab-badge.svg\" alt=\"Open In Colab\"/></a>"
      ]
    },
    {
      "cell_type": "markdown",
      "metadata": {
        "id": "r-cwBfuXa9HW"
      },
      "source": [
        "##**Memulai Python**\n",
        "\n",
        "IDLE (_Integrated Development and Learning Environment_)\n",
        "\n",
        "Bentuk IDLE:\n",
        "1. _Interactive Windows_/Jendela interaktif\n",
        "2. _Script Windows_/Jendela Skript\n",
        "\n",
        "Urutan kejadian di jendela interaktif dapat digambarkan sebagai loop dengan tiga langkah:\n",
        "1. Pertama, Python membaca kode yang dimasukkan pada prompt.\n",
        "2. Kemudian kode tersebut dievaluasi.\n",
        "3. Akhirnya, output dicetak di jendela dan prompt baru ditampilkan.\n",
        "\n",
        "Aktivitas ini disebut _Read-Evaluate-Print Loop_, atau REPL"
      ]
    },
    {
      "cell_type": "markdown",
      "metadata": {
        "id": "sACufmxwVbl5"
      },
      "source": [
        "##**Menggunakan fungsi print ()**\n",
        "\n",
        "Fungsi adalah kode singkat yang biasanya mengambil beberapa input, yang disebut argumen, melakukan sesuatu dengan input itu, dan menghasilkan beberapa output, yang disebut nilai kembalian (_return value_).\n",
        "\n",
        "Fungsi dalam kode bekerja seperti fungsi matematika. Misalnya, fungsi matematika A(r)=πr² mengambil jari-jari r lingkaran sebagai input dan menghasilkan luas lingkaran sebagai output."
      ]
    },
    {
      "cell_type": "code",
      "metadata": {
        "id": "uInVPC0ZWgmJ"
      },
      "source": [
        "print(\"Hello, World\")"
      ],
      "execution_count": null,
      "outputs": []
    },
    {
      "cell_type": "markdown",
      "metadata": {
        "id": "izJm6LCvgOgQ"
      },
      "source": [
        "##**Error pada Skript**\n",
        "\n",
        "Kesalahan yang dibuat dalam suatu program disebut ERROR, dan ada dua jenis kesalahan utama yang akan Anda alami:\n",
        "1. _Syntax errors_\n",
        "2. _Run-time errors_\n",
        "\n"
      ]
    },
    {
      "cell_type": "code",
      "metadata": {
        "id": "fElEsPllhIPl"
      },
      "source": [
        "print(\"Hello, wolrd)"
      ],
      "execution_count": null,
      "outputs": []
    },
    {
      "cell_type": "code",
      "metadata": {
        "id": "bq_78v4cj06c"
      },
      "source": [
        "print(Hello, World)"
      ],
      "execution_count": null,
      "outputs": []
    },
    {
      "cell_type": "code",
      "metadata": {
        "id": "2IBwH-VSl7NU"
      },
      "source": [
        "print(4/0)"
      ],
      "execution_count": null,
      "outputs": []
    },
    {
      "cell_type": "markdown",
      "metadata": {
        "id": "tiIFf62Jg_lB"
      },
      "source": [
        "### Syntax Error\n",
        "Dalam istilah sederhana, _Syntax Error_ (kesalahan sintaks) terjadi ketika Anda menulis beberapa kode yang tidak diperbolehkan dalam bahasa Python"
      ]
    },
    {
      "cell_type": "markdown",
      "metadata": {
        "id": "HoLBFNqviYx0"
      },
      "source": [
        "###Run-Time Error\n",
        "\n",
        "IDLE menangkap _Syntax Error_ sebelum program mulai berjalan, tetapi beberapa kesalahan tidak dapat ditangkap sampai program dijalankan. Kesalahan ini dikenal sebagai _Run-time Error_ karena hanya terjadi pada saat program dijalankan.\n",
        "\n",
        "Jenis-jenis:\n",
        "1. pembagian dengan nol.\n",
        "2. melakukan operasi pada jenis yang tidak kompatibel.\n",
        "3. menggunakan pengenal yang belum ditentukan.\n",
        "4. mengakses elemen list, dictionary value, atau atribut objek yang tidak ada.\n",
        "5. mencoba mengakses file yang tidak ada."
      ]
    },
    {
      "cell_type": "markdown",
      "metadata": {
        "id": "WLKdwzwcmaLn"
      },
      "source": [
        "###Traceback\n",
        "\n",
        "Teks yang menunjukkan sebuah error disebut Traceback\n",
        "\n",
        "_Traceback (most recent call last)_:\n",
        "  \n",
        "  _File \"C:/Users/lenovo/AppData/Local/Programs/Python/Python310/first.py\", line 2, in <module>_\n",
        "    _print(Hello, world)_\n",
        "    \n",
        "  _NameError: name 'Hello' is not defined_\n",
        "\n",
        "Apa yang dapat kamu ketahui dari sebuah Traceback?\n",
        "1. Error terjadi pada line 1 (baris 1) dari file hello_world.py.\n",
        "2. Baris yang menyebabkan error adalah: print(Hello, world).\n",
        "3. Sebuah **NameError** terjadi.\n",
        "4. Spesifik error yang terjadi adalah nama 'Hello' tidak didefinisikan"
      ]
    },
    {
      "cell_type": "markdown",
      "metadata": {
        "id": "W1b8_SCG0b8l"
      },
      "source": [
        "##**Membuat Varibel**\n",
        "\n",
        "Variabel adalah nama yang dapat diberi nilai dan digunakan\n",
        "untuk mereferensikan nilai itu di seluruh kode Anda. \n",
        "Variabel sangat penting untuk pemrograman karena dua alasan:\n",
        "1. **Variabel membuat nilai dapat diakses**: Misalnya, hasil dari\n",
        "beberapa operasi yang memakan waktu dapat dimasukkan ke sebuah variabel sehingga operasi tersebut tidak perlu dilakukan setiap kali Anda perlu menggunakan hasilnya.\n",
        "2. **Variabel memberikan konteks nilai**: Angka 28 bisa berarti banyak\n",
        "hal yang berbeda, seperti jumlah siswa di kelas, atau\n",
        "berapa kali pengguna mengakses situs web, dan sebagainya. Penamaan\n",
        "nilai 28 sesuatu seperti num_students membuat arti dari angka tersebut menjadi jelas. "
      ]
    },
    {
      "cell_type": "markdown",
      "metadata": {
        "id": "UFb_iPD_Gy-e"
      },
      "source": [
        "###Assignment Operator\n",
        "\n",
        "Sebuah nilai diberikan untuk sebuah variabel menggunakan tanda \"=\", tanda ini disebut _Assignment_ Operator"
      ]
    },
    {
      "cell_type": "code",
      "metadata": {
        "id": "Bt0gG1TGZaU1"
      },
      "source": [
        "frase = \"Hello, World\"\n",
        "print(frase)"
      ],
      "execution_count": null,
      "outputs": []
    },
    {
      "cell_type": "code",
      "metadata": {
        "id": "h4Qo155EZfUr"
      },
      "source": [
        "print(kata)"
      ],
      "execution_count": null,
      "outputs": []
    },
    {
      "cell_type": "markdown",
      "metadata": {
        "id": "cQmi43SXaD5i"
      },
      "source": [
        "Nama variabel bersifat *case-sensitive*, misalnya variabel dengan nama **frase** berbeda dengan variabel bernama **Frase**"
      ]
    },
    {
      "cell_type": "code",
      "metadata": {
        "id": "L5Ust9xqaZ3q"
      },
      "source": [
        "print(Frase)"
      ],
      "execution_count": null,
      "outputs": []
    },
    {
      "cell_type": "markdown",
      "metadata": {
        "id": "-pUs3u8OacnS"
      },
      "source": [
        "###Aturan untuk Nama Variabel\n",
        "\n",
        "1. Nama variabel hanya boleh berisi huruf besar dan huruf kecil (A–Z, a–z), angka (0–9), dan garis bawah (_).\n",
        "2. Nama variabel tidak dapat dimulai dengan angka\n",
        "\n",
        "**contoh nama variabel yang valid**: frase, waktu2, nama_sekolah, _alPh4\n",
        "\n",
        "**contoh nama variabel yang tidak valid**: 9jiwa"
      ]
    },
    {
      "cell_type": "markdown",
      "metadata": {
        "id": "xEJGlPH2b5jG"
      },
      "source": [
        "##Nama Deskriptif **Lebih Baik** Dibandingkan Nama Singkat\n",
        "\n",
        "Nama variabel deskriptif sangat penting, terutama untuk program yang kompleks. Seringkali, nama deskriptif membutuhkan penggunaan banyak kata. Jangan takut untuk menggunakan nama variabel yang panjang.\n",
        "\n",
        "Nama deskriptif memberikan konteks yang jelas bagi sebuah variabel\n",
        "\n",
        "**contoh**\n"
      ]
    },
    {
      "cell_type": "code",
      "metadata": {
        "id": "-WstIh60chRg"
      },
      "source": [
        "d = 3600"
      ],
      "execution_count": null,
      "outputs": []
    },
    {
      "cell_type": "code",
      "metadata": {
        "id": "Iz9BinXIckVE"
      },
      "source": [
        "detik = 3600"
      ],
      "execution_count": null,
      "outputs": []
    },
    {
      "cell_type": "code",
      "metadata": {
        "id": "aPKr2gHzcmXy"
      },
      "source": [
        "detik_per_jam = 3600"
      ],
      "execution_count": null,
      "outputs": []
    },
    {
      "cell_type": "markdown",
      "metadata": {
        "id": "yLFx2tyVctb5"
      },
      "source": [
        "##Model penamaan\n",
        "\n",
        "**camelCase**, contoh: detikPerJam, jumlahMahasiswaBaru\n",
        "\n",
        "**Snake Case**, contoh: detik_per_jam, jumlah_mahasiswa_baru"
      ]
    },
    {
      "cell_type": "markdown",
      "metadata": {
        "id": "Vf0NJ5V1duZ2"
      },
      "source": [
        "###Memeriksa nilai Variabel"
      ]
    },
    {
      "cell_type": "code",
      "metadata": {
        "id": "NR2Mzcr_Bw-4"
      },
      "source": [
        "bbbbbbbbbbbbbbbbbbbbbbbbbbbbbbbbbbbbbb                                                                                                         vvvvvvvvvvvvvvvvvvvlllllllllllllllll;;;;;;;;;;;;;;;;;;;;;;;;;;;;;;;;;;;;;;;;;;;;;;;;;;;;;;;;;;;;;;;;;;;;;;;;l;;;;;;; ;;;;;;;;;;;;; ;;;;;;;;;;;;;;; ; ; ; ; ; ; ; ; ; ; ; ; ; ; ; ;  ; ; ; ; ; ; ; ; ; ; ; ; ; ; ; ; ; ; ; ; ; ; ; ; ;  ; ; ; ; ; ; ; ; ; ; ; ; ; ; ; ; ; ; ; ;            ;                 ; ; ; ;                                         ;                                                                       ;                  ;                                                  ;                 ; ; ; ; ; ; ; ; ; ; ; ; ; ;  ; ; ; ; ; ; ; ; ; ; ; ; ; ; ; ;               g;gggggggggggg;g[i        i                           i        i                                         i  u                                                   gyyiyyyyyyyyyyyyyyyyiyyiyiyiyiyiyiyiyiyiyiyiyiyiyiyiyiyyyyyyyyyyyyyyyyyyyyyyiyyyyyyyyyyyyyyyyyyyyyyyyyyyyyyyyyyyyyyyyyyyyyyyyyyyyyyyyyyyyyyyyyyyyy9yyyyyyyyyyyyyyyyy9y9y9y9y9y9y9y9y9y9y9y9yy9y9y9y9y9y9y9y9y9y9y9y9y9y9y9y9y9y9y9y9y9y9yy9y9y9y9y9y9y9y9y9y9y9y9y9y9y9y9y9y9y9y9y9y9y9y9yyyyyyyyyyyyyyyyyyyyyyyyyyyyyyyyyyyyyyyyyyyyyyyyyyyyyyyyyyyyyyyyyyyyyyyyyyyy                                                                                                                                                                                                                                                             ggggggggggggggggggggggigggggggggggggggggigigigigigigigigigigigigigigigiiiiiiiii                                                  i                                                                      i                 i i i i i i i iirrrrrrrrrrrrrrrrrrrrrrrrrrrrrrrrrr6666666666y65555569796888888888888888888888888888888558555555555555555555585555555555555555555855555555lLLLLLLLLL\"\"\"\"\"\"\"\"\"\"}+eee00000                              6]"
      ],
      "execution_count": null,
      "outputs": []
    },
    {
      "cell_type": "code",
      "metadata": {
        "id": "gjUiBjqfdy-p"
      },
      "source": [
        "kataku = \"Hello, World\"\n",
        "print(kataku)"
      ],
      "execution_count": null,
      "outputs": []
    },
    {
      "cell_type": "code",
      "metadata": {
        "id": "fyOg5wqKd_nS"
      },
      "source": [
        "kataku"
      ],
      "execution_count": null,
      "outputs": []
    },
    {
      "cell_type": "code",
      "metadata": {
        "id": "efFO3DO9egxL"
      },
      "source": [
        "x = 3\n",
        "print(x)"
      ],
      "execution_count": null,
      "outputs": []
    },
    {
      "cell_type": "code",
      "metadata": {
        "id": "1jizugtCes85"
      },
      "source": [
        "x"
      ],
      "execution_count": null,
      "outputs": []
    },
    {
      "cell_type": "code",
      "metadata": {
        "id": "HnN-yyPleumY"
      },
      "source": [
        "a = 4\n",
        "b = \"4\""
      ],
      "execution_count": null,
      "outputs": []
    },
    {
      "cell_type": "markdown",
      "metadata": {
        "id": "WYq1dFkXfGfa"
      },
      "source": [
        "##Komentar\n",
        "\n",
        "1. *Block Comments*: Komentar yang dituliskan pada baris baru\n",
        "2. *In-line COmments*: Komentar yang dituliskan yang dituliskan pada baris yang saama dengan kode."
      ]
    },
    {
      "cell_type": "code",
      "metadata": {
        "id": "M-FdLxonf2GK"
      },
      "source": [
        "# Ini adalah Block Coments\n",
        "\n",
        "frase = 3       #Ini adalah In-line comments\n",
        "print(frase)    #Ini adalah In-line comments"
      ],
      "execution_count": null,
      "outputs": []
    }
  ]
}